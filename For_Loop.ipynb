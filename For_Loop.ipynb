{
  "nbformat": 4,
  "nbformat_minor": 0,
  "metadata": {
    "colab": {
      "provenance": []
    },
    "kernelspec": {
      "name": "python3",
      "display_name": "Python 3"
    },
    "language_info": {
      "name": "python"
    }
  },
  "cells": [
    {
      "cell_type": "markdown",
      "source": [
        "# Basic level"
      ],
      "metadata": {
        "id": "tnKvTu1aPKlL"
      }
    },
    {
      "cell_type": "markdown",
      "source": [
        "*1. Write a Python program to print the numbers from 1 to 10 using a `for` loop.*"
      ],
      "metadata": {
        "id": "MkXDUbr1POoJ"
      }
    },
    {
      "cell_type": "code",
      "execution_count": null,
      "metadata": {
        "colab": {
          "base_uri": "https://localhost:8080/"
        },
        "id": "e9K4A4mSPD9Z",
        "outputId": "d9c9921c-d207-4ea0-99be-64f3ab1c77ee"
      },
      "outputs": [
        {
          "output_type": "stream",
          "name": "stdout",
          "text": [
            "1 2 3 4 5 6 7 8 9 10 "
          ]
        }
      ],
      "source": [
        "for i in range(1,11):\n",
        "  print(i,end=' ')"
      ]
    },
    {
      "cell_type": "markdown",
      "source": [
        "*2. Create a program that calculates the sum of all numbers in a list using a `for` loop.*"
      ],
      "metadata": {
        "id": "I1l-PQSSPmxS"
      }
    },
    {
      "cell_type": "code",
      "source": [
        "l=list(input().split())\n",
        "sum=0\n",
        "for i in l:\n",
        "  sum = sum+int(i)\n",
        "print(sum)"
      ],
      "metadata": {
        "colab": {
          "base_uri": "https://localhost:8080/"
        },
        "id": "BpN_PPSaPi8D",
        "outputId": "1371d6e8-d263-4b10-9436-37c5a4264a7d"
      },
      "execution_count": null,
      "outputs": [
        {
          "output_type": "stream",
          "name": "stdout",
          "text": [
            "1 2 3 4 56 7 8 9 8 41 1 2 2 \n",
            "144\n"
          ]
        }
      ]
    },
    {
      "cell_type": "markdown",
      "source": [
        "*3. Write a program to print the characters of a string in reverse order using a `for` loop.*"
      ],
      "metadata": {
        "id": "jHNScht-QYUy"
      }
    },
    {
      "cell_type": "code",
      "source": [
        "string= input()\n",
        "for i in range(len(string)-1,-1,-1):\n",
        "  print(string[i],end='')"
      ],
      "metadata": {
        "colab": {
          "base_uri": "https://localhost:8080/"
        },
        "id": "2zhXw9A3P_Ta",
        "outputId": "50cb0c2a-c7f9-4a0e-e7ec-2ae3e813d081"
      },
      "execution_count": null,
      "outputs": [
        {
          "output_type": "stream",
          "name": "stdout",
          "text": [
            "Jai Shri Ram\n",
            "maR irhS iaJ"
          ]
        }
      ]
    },
    {
      "cell_type": "markdown",
      "source": [
        "*4. Develop a program that finds the factorial of a given number using a `for` loop.*"
      ],
      "metadata": {
        "id": "xLg3l-XtTT8K"
      }
    },
    {
      "cell_type": "code",
      "source": [
        "numbers=   int (  input  ())\n",
        "factorial=   1\n",
        "for   i   in  range  ( 1 , numbers+ 1 ):\n",
        "    factorial=factorial*i\n",
        "print  (  factorial  )"
      ],
      "metadata": {
        "id": "BCYB4rPVRtUp",
        "colab": {
          "base_uri": "https://localhost:8080/"
        },
        "outputId": "d4a7eea3-e5b5-4c0c-c595-ba0c2c55bff0"
      },
      "execution_count": null,
      "outputs": [
        {
          "output_type": "stream",
          "name": "stdout",
          "text": [
            "9\n",
            "362880\n"
          ]
        }
      ]
    },
    {
      "cell_type": "markdown",
      "source": [
        "*5. Create a program to print the multiplication table of a given number using a `for` loop.*"
      ],
      "metadata": {
        "id": "z8XkmVkD_4cJ"
      }
    },
    {
      "cell_type": "code",
      "source": [
        "n=int(input())\n",
        "for i in range(1,11):\n",
        "    print(f'{n}×{i} ={n*i}')"
      ],
      "metadata": {
        "colab": {
          "base_uri": "https://localhost:8080/"
        },
        "id": "FyJhhzkA_R1I",
        "outputId": "8b9be6cc-0184-4a94-b385-5f2213aec7fb"
      },
      "execution_count": null,
      "outputs": [
        {
          "output_type": "stream",
          "name": "stdout",
          "text": [
            "9\n",
            "9×1 =9\n",
            "9×2 =18\n",
            "9×3 =27\n",
            "9×4 =36\n",
            "9×5 =45\n",
            "9×6 =54\n",
            "9×7 =63\n",
            "9×8 =72\n",
            "9×9 =81\n",
            "9×10 =90\n"
          ]
        }
      ]
    },
    {
      "cell_type": "markdown",
      "source": [
        "*6. Write a program that counts the number of even and odd numbers in a list using a `for` loop.*"
      ],
      "metadata": {
        "id": "lP76ta_9BQui"
      }
    },
    {
      "cell_type": "code",
      "source": [
        "n= input  ()  .split  ()\n",
        "o=  0\n",
        "e=  0\n",
        "for   i   in   n  : if int (  i  )  %  2  ==  0 :          e+=  1 else :          o+=  1  print  (  f  'There are { e } even numbers and { o } odd numbers in the list' )"
      ],
      "metadata": {
        "colab": {
          "base_uri": "https://localhost:8080/"
        },
        "id": "Fgad8-QwBeTD",
        "outputId": "081d9cf2-4bfa-4a54-eeb4-a1336d140e29"
      },
      "execution_count": null,
      "outputs": [
        {
          "output_type": "stream",
          "name": "stdout",
          "text": [
            "12 32 45 65 67 87 89 79 88 66\n",
            "There are 4 even numbers and 6 odd numbers in the list\n"
          ]
        }
      ]
    },
    {
      "cell_type": "markdown",
      "source": [
        "*7. Develop a program that prints the squares of numbers from 1 to 5 using a `for` loop.*"
      ],
      "metadata": {
        "id": "rF_2j1kXYlI_"
      }
    },
    {
      "cell_type": "code",
      "source": [
        "def square():\n",
        "  n=int(input())\n",
        "  for i in range(1,n+1):\n",
        "    print(i**2,end=' ')\n",
        "\n",
        "square()"
      ],
      "metadata": {
        "colab": {
          "base_uri": "https://localhost:8080/"
        },
        "id": "k7umngriYwA3",
        "outputId": "3c03d175-62b9-47bd-d824-061ffe3325cf"
      },
      "execution_count": null,
      "outputs": [
        {
          "output_type": "stream",
          "name": "stdout",
          "text": [
            "5\n",
            "1 4 9 16 25 "
          ]
        }
      ]
    },
    {
      "cell_type": "markdown",
      "source": [
        "*8. Create a program to find the length of a string without using the `len()` function.*"
      ],
      "metadata": {
        "id": "sioLWhb5aOV3"
      }
    },
    {
      "cell_type": "code",
      "source": [
        "def length():\n",
        "  string=input()\n",
        "  i=0\n",
        "  for x in string:\n",
        "    i+=1\n",
        "  return i\n",
        "length()"
      ],
      "metadata": {
        "colab": {
          "base_uri": "https://localhost:8080/"
        },
        "id": "OHH4jqcGZZLY",
        "outputId": "68a5cbed-f677-49fa-f16d-5ce706198b2a"
      },
      "execution_count": null,
      "outputs": [
        {
          "name": "stdout",
          "output_type": "stream",
          "text": [
            "Hello! how are you?\n"
          ]
        },
        {
          "output_type": "execute_result",
          "data": {
            "text/plain": [
              "19"
            ]
          },
          "metadata": {},
          "execution_count": 9
        }
      ]
    },
    {
      "cell_type": "markdown",
      "source": [
        "*9. Write a program that calculates the average of a list of numbers using a `for` loop.*"
      ],
      "metadata": {
        "id": "KndcKt3qayXA"
      }
    },
    {
      "cell_type": "code",
      "source": [
        "def avg():\n",
        "  l1=list(input().split())\n",
        "  sum=0\n",
        "  for i in l1:\n",
        "    sum+=int(i)\n",
        "    avg= sum/len(l1)\n",
        "  return avg\n",
        "\n",
        "avg()"
      ],
      "metadata": {
        "id": "zypBMQY1ap6n",
        "colab": {
          "base_uri": "https://localhost:8080/"
        },
        "outputId": "c4405511-70de-4275-de4c-14ad92ccb9ea"
      },
      "execution_count": null,
      "outputs": [
        {
          "name": "stdout",
          "output_type": "stream",
          "text": [
            "1 2 3 4 5 6 7 89 1 21 1\n"
          ]
        },
        {
          "output_type": "execute_result",
          "data": {
            "text/plain": [
              "12.727272727272727"
            ]
          },
          "metadata": {},
          "execution_count": 3
        }
      ]
    },
    {
      "cell_type": "markdown",
      "source": [
        "*10. Develop a program that prints the first `n` Fibonacci numbers using a `for` loop.*"
      ],
      "metadata": {
        "id": "rBVnBN8Amhag"
      }
    },
    {
      "cell_type": "code",
      "source": [
        "def fib(n):\n",
        "  a=1\n",
        "  b=1\n",
        "  for i in range(n):\n",
        "    yield a,i\n",
        "    a,b= b, a+b\n",
        "  return (i,a)\n",
        "for i in fib(11):\n",
        "  print(i)"
      ],
      "metadata": {
        "id": "oae7CTIfdmmp",
        "colab": {
          "base_uri": "https://localhost:8080/"
        },
        "outputId": "afa6d128-4746-4c53-ecc8-894dad3a093a"
      },
      "execution_count": null,
      "outputs": [
        {
          "output_type": "stream",
          "name": "stdout",
          "text": [
            "(1, 0)\n",
            "(1, 1)\n",
            "(2, 2)\n",
            "(3, 3)\n",
            "(5, 4)\n",
            "(8, 5)\n",
            "(13, 6)\n",
            "(21, 7)\n",
            "(34, 8)\n",
            "(55, 9)\n",
            "(89, 10)\n"
          ]
        }
      ]
    },
    {
      "cell_type": "markdown",
      "source": [
        "#Intermediate level"
      ],
      "metadata": {
        "id": "EKlFcpcBrrSV"
      }
    },
    {
      "cell_type": "markdown",
      "source": [
        "*11. Write a program to check if a given list contains any duplicates using a `for` loop.*"
      ],
      "metadata": {
        "id": "OP453UcIrxbM"
      }
    },
    {
      "cell_type": "code",
      "source": [
        "def duplicate(lis):\n",
        "  dup = []\n",
        "  for i in range(len(lis)):\n",
        "    if lis[i] not in dup:\n",
        "        dup.append(lis[i])\n",
        "    else:\n",
        "      print(lis[i],end=' ')\n",
        "\n",
        "duplicate([1,2,3,4,5,1,2,6,8,7,5])\n"
      ],
      "metadata": {
        "colab": {
          "base_uri": "https://localhost:8080/"
        },
        "id": "TlsASc00oHVa",
        "outputId": "4a118812-15a1-402c-d794-b94699a853a3"
      },
      "execution_count": null,
      "outputs": [
        {
          "output_type": "stream",
          "name": "stdout",
          "text": [
            "1 2 5 "
          ]
        }
      ]
    },
    {
      "cell_type": "markdown",
      "source": [
        "*12. Create a program that prints the prime numbers in a given range using a `for` loop.*"
      ],
      "metadata": {
        "id": "stghdx3Fyrft"
      }
    },
    {
      "cell_type": "code",
      "source": [
        "def prime(n):\n",
        "    if n <= 1:\n",
        "      return False\n",
        "    for i in range(2,int(n**0.5)+1):\n",
        "        if n%i==0:\n",
        "          return False\n",
        "    return True\n",
        "def is_prime(a,b):\n",
        "  for n in range(a,b+1):\n",
        "    if prime(n):\n",
        "      print(n,end=' ')\n",
        "\n",
        "is_prime(1,100)"
      ],
      "metadata": {
        "colab": {
          "base_uri": "https://localhost:8080/"
        },
        "id": "HeQFmqKdxGtE",
        "outputId": "c1d65e8b-6bb9-465d-b1c8-954c70710e48"
      },
      "execution_count": null,
      "outputs": [
        {
          "output_type": "stream",
          "name": "stdout",
          "text": [
            "2 3 5 7 11 13 17 19 23 29 31 37 41 43 47 53 59 61 67 71 73 79 83 89 97 "
          ]
        }
      ]
    },
    {
      "cell_type": "markdown",
      "source": [
        "*13. Develop a program that counts the number of vowels in a string using a `for` loop.*"
      ],
      "metadata": {
        "id": "EChKN-tEPPaw"
      }
    },
    {
      "cell_type": "code",
      "source": [
        "def couont_vowels(string):\n",
        "  global vowels\n",
        "  vowels=''\n",
        "  for i in range(len(string)):\n",
        "    if string[i].lower() in 'aeiou':\n",
        "      vowels+=string[i]\n",
        "  return len(vowels)\n",
        "string=input()\n",
        "print(f'There are {couont_vowels(string)} vowels which are \"{vowels}\"')"
      ],
      "metadata": {
        "colab": {
          "base_uri": "https://localhost:8080/"
        },
        "id": "emhaoaV_O5w0",
        "outputId": "49dd2299-51cd-4cac-8978-abf476d6742e"
      },
      "execution_count": null,
      "outputs": [
        {
          "output_type": "stream",
          "name": "stdout",
          "text": [
            "I am good And yOU?\n",
            "There are 7 vowels which are \"IaooAOU\"\n"
          ]
        }
      ]
    },
    {
      "cell_type": "markdown",
      "source": [
        "*14. Write a program to find the maximum element in a 2D list using a nested `for` loop.*"
      ],
      "metadata": {
        "id": "iB7SqOJCRmcg"
      }
    },
    {
      "cell_type": "code",
      "source": [
        "li= [[1,2],[3,4,5,7],[4,85,98,54],[501,21]]\n",
        "for i in range(len(li)):\n",
        "  for j in range(i):\n",
        "     continue\n",
        "max(li[i])"
      ],
      "metadata": {
        "colab": {
          "base_uri": "https://localhost:8080/"
        },
        "id": "33b1t8B7P9u8",
        "outputId": "c8aab569-f2f5-4594-9f97-4c40d52034a7"
      },
      "execution_count": null,
      "outputs": [
        {
          "output_type": "execute_result",
          "data": {
            "text/plain": [
              "501"
            ]
          },
          "metadata": {},
          "execution_count": 101
        }
      ]
    },
    {
      "cell_type": "markdown",
      "source": [
        "*15. Create a program that removes all occurrences of a specific element from a list using a `for` loop.*"
      ],
      "metadata": {
        "id": "axg4WjPx3VXP"
      }
    },
    {
      "cell_type": "code",
      "source": [
        "li=list(input().split())\n",
        "s=[]\n",
        "element=input()\n",
        "for i in li:\n",
        "  if i != element:\n",
        "    s.append(i)\n",
        "print(s)\n",
        "\n"
      ],
      "metadata": {
        "colab": {
          "base_uri": "https://localhost:8080/"
        },
        "id": "gZD2MxO8hFZb",
        "outputId": "9a1ea36c-2cf6-474d-eb57-73ec42f6a971"
      },
      "execution_count": null,
      "outputs": [
        {
          "output_type": "stream",
          "name": "stdout",
          "text": [
            "78 9 5 85 2 115 2232 65 66 6 6 678 41 2 54 6\n",
            "6\n",
            "['78', '9', '5', '85', '2', '115', '2232', '65', '66', '678', '41', '2', '54']\n"
          ]
        }
      ]
    },
    {
      "cell_type": "markdown",
      "source": [
        "*16. Develop a program that generates a multiplication table for numbers from 1 to 5 using a nested `for` loop.*"
      ],
      "metadata": {
        "id": "hxOfINhGUiN8"
      }
    },
    {
      "cell_type": "code",
      "source": [
        "n=  int ( input ( 'Input range' ))\n",
        "for  i  in range ( 1 , n+ 1 ):\n",
        "    for  j  in range ( 1 , 11 ):\n",
        "       multiplication= i * j\n",
        "       print (f'{ i }  ×  { j }  = {multiplication}' )\n",
        "    print ( '-' * 15 )"
      ],
      "metadata": {
        "colab": {
          "base_uri": "https://localhost:8080/"
        },
        "id": "4ldYSj2dB2z8",
        "outputId": "8a2be081-4d99-4263-b98d-d20ec6b09337"
      },
      "execution_count": null,
      "outputs": [
        {
          "output_type": "stream",
          "name": "stdout",
          "text": [
            "Input range5\n",
            "1  ×  1  = 1\n",
            "1  ×  2  = 2\n",
            "1  ×  3  = 3\n",
            "1  ×  4  = 4\n",
            "1  ×  5  = 5\n",
            "1  ×  6  = 6\n",
            "1  ×  7  = 7\n",
            "1  ×  8  = 8\n",
            "1  ×  9  = 9\n",
            "1  ×  10  = 10\n",
            "---------------\n",
            "2  ×  1  = 2\n",
            "2  ×  2  = 4\n",
            "2  ×  3  = 6\n",
            "2  ×  4  = 8\n",
            "2  ×  5  = 10\n",
            "2  ×  6  = 12\n",
            "2  ×  7  = 14\n",
            "2  ×  8  = 16\n",
            "2  ×  9  = 18\n",
            "2  ×  10  = 20\n",
            "---------------\n",
            "3  ×  1  = 3\n",
            "3  ×  2  = 6\n",
            "3  ×  3  = 9\n",
            "3  ×  4  = 12\n",
            "3  ×  5  = 15\n",
            "3  ×  6  = 18\n",
            "3  ×  7  = 21\n",
            "3  ×  8  = 24\n",
            "3  ×  9  = 27\n",
            "3  ×  10  = 30\n",
            "---------------\n",
            "4  ×  1  = 4\n",
            "4  ×  2  = 8\n",
            "4  ×  3  = 12\n",
            "4  ×  4  = 16\n",
            "4  ×  5  = 20\n",
            "4  ×  6  = 24\n",
            "4  ×  7  = 28\n",
            "4  ×  8  = 32\n",
            "4  ×  9  = 36\n",
            "4  ×  10  = 40\n",
            "---------------\n",
            "5  ×  1  = 5\n",
            "5  ×  2  = 10\n",
            "5  ×  3  = 15\n",
            "5  ×  4  = 20\n",
            "5  ×  5  = 25\n",
            "5  ×  6  = 30\n",
            "5  ×  7  = 35\n",
            "5  ×  8  = 40\n",
            "5  ×  9  = 45\n",
            "5  ×  10  = 50\n",
            "---------------\n"
          ]
        }
      ]
    },
    {
      "cell_type": "markdown",
      "source": [
        "*17. Write a program that converts a list of Fahrenheit temperatures to Celsius using a `for` loop.*"
      ],
      "metadata": {
        "id": "_wilroZuJy6c"
      }
    },
    {
      "cell_type": "code",
      "source": [
        "def fer_2_cel():\n",
        "  d=[]\n",
        "  for i in temp:\n",
        "    c= (5*i-160)/9\n",
        "    d.append(c)\n",
        "  return d\n",
        "temp=[96,97,98,99,100,104,103,102,101]\n",
        "fer_2_cel()\n"
      ],
      "metadata": {
        "colab": {
          "base_uri": "https://localhost:8080/"
        },
        "id": "-I_5jpVXJ7ar",
        "outputId": "ff2e6174-281d-4be4-d814-8016efdd926f"
      },
      "execution_count": null,
      "outputs": [
        {
          "output_type": "execute_result",
          "data": {
            "text/plain": [
              "[35.55555555555556,\n",
              " 36.111111111111114,\n",
              " 36.666666666666664,\n",
              " 37.22222222222222,\n",
              " 37.77777777777778,\n",
              " 40.0,\n",
              " 39.44444444444444,\n",
              " 38.888888888888886,\n",
              " 38.333333333333336]"
            ]
          },
          "metadata": {},
          "execution_count": 9
        }
      ]
    },
    {
      "cell_type": "markdown",
      "source": [
        "*18. Create a program to print the common elements from two lists using a `for` loop.*"
      ],
      "metadata": {
        "id": "l39dyrJSMykC"
      }
    },
    {
      "cell_type": "code",
      "source": [
        "l1=input().split()\n",
        "l2=input().split()\n",
        "l3=[]\n",
        "for i in l1:\n",
        "  for j in l2:\n",
        "    if i==j:\n",
        "      l3.append(i)\n",
        "print(l3)"
      ],
      "metadata": {
        "colab": {
          "base_uri": "https://localhost:8080/"
        },
        "id": "x2FXIyZgM6i6",
        "outputId": "49b9cd32-4da2-4b7d-e3b7-3ce583f5a47f"
      },
      "execution_count": null,
      "outputs": [
        {
          "output_type": "stream",
          "name": "stdout",
          "text": [
            "hello hii no how too today\n",
            "hii 1 tomorrow hello yes today\n",
            "['hello', 'hii', 'today']\n"
          ]
        }
      ]
    },
    {
      "cell_type": "markdown",
      "source": [
        "*19. Develop a program that prints the pattern of right-angled triangles using a `for` loop. Use ‘*’ to draw the\n",
        "pattern*"
      ],
      "metadata": {
        "id": "BtZoZc8fxoiP"
      }
    },
    {
      "cell_type": "code",
      "source": [
        "n= int(input())\n",
        "for i in range(1,n+1):\n",
        "  for j in range(1,i+1):\n",
        "    print('*',end=' ')\n",
        "  print()"
      ],
      "metadata": {
        "colab": {
          "base_uri": "https://localhost:8080/"
        },
        "id": "p4epYJ4WxqTu",
        "outputId": "d4edd223-cccd-43cd-9852-4acd4a05fdd2"
      },
      "execution_count": null,
      "outputs": [
        {
          "output_type": "stream",
          "name": "stdout",
          "text": [
            "5\n",
            "* \n",
            "* * \n",
            "* * * \n",
            "* * * * \n",
            "* * * * * \n"
          ]
        }
      ]
    },
    {
      "cell_type": "markdown",
      "source": [
        "*20. Write a program to find the greatest common divisor (GCD) of two numbers using a `for` loop.*"
      ],
      "metadata": {
        "id": "yxlfsgdNRD00"
      }
    },
    {
      "cell_type": "code",
      "source": [
        "def GCD(n1,n2):\n",
        "  l1=[]\n",
        "  for i in range(1,n1):\n",
        "    for j in range(1,n2):\n",
        "      if n1%i==0 and n2%j==0:\n",
        "        if i==j:\n",
        "          l1.append(i)\n",
        "  return max(l1)\n",
        "GCD(42,49)\n",
        "\n"
      ],
      "metadata": {
        "colab": {
          "base_uri": "https://localhost:8080/"
        },
        "id": "D_pGvOeqUaTm",
        "outputId": "51e7156e-9759-4b50-90ae-a9758451c29d"
      },
      "execution_count": null,
      "outputs": [
        {
          "output_type": "execute_result",
          "data": {
            "text/plain": [
              "7"
            ]
          },
          "metadata": {},
          "execution_count": 1
        }
      ]
    },
    {
      "cell_type": "markdown",
      "source": [
        "#Advanced Level:"
      ],
      "metadata": {
        "id": "xvzKxcwIt1zy"
      }
    },
    {
      "cell_type": "markdown",
      "source": [
        "*21. Create a program that calculates the sum of the digits of numbers in a list using a list comprehension.*"
      ],
      "metadata": {
        "id": "g6_3JrHwt5g2"
      }
    },
    {
      "cell_type": "code",
      "source": [
        "def add(l1):\n",
        "    sum_=sum(i for i in l1)\n",
        "    return(sum_)"
      ],
      "metadata": {
        "id": "hbXJFb-AuDX2"
      },
      "execution_count": null,
      "outputs": []
    },
    {
      "cell_type": "code",
      "source": [
        "add([1,2,3,4,5])"
      ],
      "metadata": {
        "colab": {
          "base_uri": "https://localhost:8080/"
        },
        "id": "uNSLZ8NE80R3",
        "outputId": "da02e547-946b-4274-b32d-6a0e7a9509dc"
      },
      "execution_count": null,
      "outputs": [
        {
          "output_type": "execute_result",
          "data": {
            "text/plain": [
              "15"
            ]
          },
          "metadata": {},
          "execution_count": 4
        }
      ]
    },
    {
      "cell_type": "markdown",
      "source": [
        "*22. Write a program to find the prime factors of a given number using a `for` loop and list comprehension.*"
      ],
      "metadata": {
        "id": "Qmk5gRyfoR6W"
      }
    },
    {
      "cell_type": "code",
      "source": [
        "def is_prime(n):\n",
        "  if n<=1:\n",
        "    return False\n",
        "  for i in range(2,int(n**0.5)+1):\n",
        "    if n%i==0:\n",
        "      return False\n",
        "  return True\n",
        "n = int(input())\n",
        "prime_Factor = [i for i in range(2,n+1) if n%i ==0 and is_prime(i) ]\n",
        "print(f'The prime factors of {n} are {prime_Factor}')"
      ],
      "metadata": {
        "id": "eA2R5LK8Expa",
        "colab": {
          "base_uri": "https://localhost:8080/"
        },
        "outputId": "543bd738-e8a8-4f67-86ee-ade133c00104"
      },
      "execution_count": null,
      "outputs": [
        {
          "output_type": "stream",
          "name": "stdout",
          "text": [
            "42\n",
            "The prime factors of 42 are [2, 3, 7]\n"
          ]
        }
      ]
    },
    {
      "cell_type": "markdown",
      "source": [
        "*23. Develop a program that extracts unique elements from a list and stores them in a new list using a list\n",
        "comprehension.*"
      ],
      "metadata": {
        "id": "r3D6X0U3CtBZ"
      }
    },
    {
      "cell_type": "code",
      "source": [
        "def unique(list_1):\n",
        "  unique_= [y for x, y in enumerate(list_1) if list_1.count(y) == 1]\n",
        "  return unique_\n",
        "unique_values= unique(list_1=[1,2,2,2,11,2,22,22,111,44,5,5,6,8,8])\n",
        "print(f'The unique values from the list are: {unique_values}')"
      ],
      "metadata": {
        "id": "dIJV4YtPf8lX",
        "colab": {
          "base_uri": "https://localhost:8080/"
        },
        "outputId": "9543fa4b-7673-4fa3-8881-16762607bb9f"
      },
      "execution_count": null,
      "outputs": [
        {
          "output_type": "stream",
          "name": "stdout",
          "text": [
            "The unique values from the list are: [1, 11, 111, 44, 6]\n"
          ]
        }
      ]
    },
    {
      "cell_type": "markdown",
      "source": [
        "*24. Create a program that generates a list of all palindromic numbers up to a specified limit using a list\n",
        "comprehension.*"
      ],
      "metadata": {
        "id": "Xorl_K7ugZgw"
      }
    },
    {
      "cell_type": "code",
      "source": [
        "def palindromic(n):\n",
        "  palindromic_numbers = [i for i in range(n) if str(i)==str(i)[::-1]]\n",
        "  return palindromic_numbers\n",
        "n = int(input('Enter the limit: '))\n",
        "nums = palindromic(n)\n",
        "print(f'The list of palindrimic numbers to the limit of {n} is: {nums}')"
      ],
      "metadata": {
        "colab": {
          "base_uri": "https://localhost:8080/"
        },
        "id": "4ZuZuICprJ_R",
        "outputId": "73271154-3ff0-4b93-ae6e-f8e8e7f4442e"
      },
      "execution_count": null,
      "outputs": [
        {
          "output_type": "stream",
          "name": "stdout",
          "text": [
            "Enter the limit: 100\n",
            "The list of palindrimic numbers to the limit of 100 is: [0, 1, 2, 3, 4, 5, 6, 7, 8, 9, 11, 22, 33, 44, 55, 66, 77, 88, 99]\n"
          ]
        }
      ]
    },
    {
      "cell_type": "markdown",
      "source": [
        "*25. Write a program to flatten a nested list using list comprehension.*"
      ],
      "metadata": {
        "id": "aeTFhVGPvaAg"
      }
    },
    {
      "cell_type": "code",
      "source": [
        "def flatten(l1):\n",
        "  Flatten_list=[j for i in l1 for j in (i if type(i) == list else [i])]\n",
        "  return Flatten_list\n",
        "display =  flatten(l1=[1,2,[1,2],3,4,5,6,[7,8,9], 10,11,[12,13]])\n",
        "print(f'''The nested list {l1} is flattened:\n",
        "{display}''')"
      ],
      "metadata": {
        "colab": {
          "base_uri": "https://localhost:8080/"
        },
        "id": "bguZXIkB0TGI",
        "outputId": "ab7421b9-2c66-4837-9666-c4d7952acfa9"
      },
      "execution_count": null,
      "outputs": [
        {
          "output_type": "stream",
          "name": "stdout",
          "text": [
            "The nested list [1, 2, [1, 2], 3, 4, 5, 6, [7, 8, 9], 10, 11, [12, 13]] is flattened: \n",
            "[1, 2, 1, 2, 3, 4, 5, 6, 7, 8, 9, 10, 11, 12, 13]\n"
          ]
        }
      ]
    },
    {
      "cell_type": "code",
      "source": [
        "l1=[1,2,[1,2],3,4,5,6,[7,8,9], 10,11,[12,13]]\n",
        "l2=[]\n",
        "l\n",
        "for i in l1:\n",
        "  if type(i) != list:\n",
        "    l2.append(i)\n",
        "  if type(i) == list:\n",
        "      for j in i:\n",
        "        l2.append(j)\n",
        "l2"
      ],
      "metadata": {
        "colab": {
          "base_uri": "https://localhost:8080/"
        },
        "id": "-58TZ8VsvYk4",
        "outputId": "67a64567-cebf-4b11-c984-c3deff44ea09"
      },
      "execution_count": null,
      "outputs": [
        {
          "output_type": "execute_result",
          "data": {
            "text/plain": [
              "[1, 2, 1, 2, 3, 4, 5, 6, 7, 8, 9, 10, 11, 12, 13]"
            ]
          },
          "metadata": {},
          "execution_count": 49
        }
      ]
    },
    {
      "cell_type": "markdown",
      "source": [
        "*26. Develop a program that computes the sum of even and odd numbers in a list separately using list\n",
        "comprehension.*"
      ],
      "metadata": {
        "id": "TePQqX4x143e"
      }
    },
    {
      "cell_type": "code",
      "source": [
        "def sum_odd_even(l1):\n",
        "  sum_of_even = sum([i for i in l1 if i % 2 == 0])\n",
        "  sum_of_odd = sum([i for i in l1 if i % 2 != 0])\n",
        "  return sum_of_even, sum_of_odd\n",
        "l1 = [1,2,3,4,5,6,7,8,9,10]\n",
        "e_sum, odd_sum = sum_odd_even(l1)\n",
        "print(f'The coomputed sum of even and odd numbers present in a list are {e_sum} and {odd_sum} respectively.')"
      ],
      "metadata": {
        "colab": {
          "base_uri": "https://localhost:8080/"
        },
        "id": "m-m_ME9I_cmc",
        "outputId": "2ca56d07-ec51-4477-a3aa-c7e1612cffb6"
      },
      "execution_count": null,
      "outputs": [
        {
          "output_type": "stream",
          "name": "stdout",
          "text": [
            "The coomputed sum of even and odd numbers present in a list are 30 and 25 respectively.\n"
          ]
        }
      ]
    },
    {
      "cell_type": "code",
      "source": [
        "n= int(input())\n",
        "l1 = []\n",
        "l2 = []\n",
        "sum_of_even = 0\n",
        "sum_of_odd = 0\n",
        "for i in range(n+1):\n",
        "    if i%2 == 0:\n",
        "      print(i,end=' ')\n",
        "      sum_of_even = sum_of_even + i\n",
        "    if i%2 != 0:\n",
        "      print(i,end=' ')\n",
        "      sum_of_odd = sum_of_odd + i\n",
        "l2.append(sum_of_even)\n",
        "l1.append(sum_of_odd)\n",
        "l2,l1"
      ],
      "metadata": {
        "colab": {
          "base_uri": "https://localhost:8080/"
        },
        "id": "KEFXJm4Nhunv",
        "outputId": "69e1924d-0edd-4719-f25f-7182d01a82b5"
      },
      "execution_count": null,
      "outputs": [
        {
          "output_type": "stream",
          "name": "stdout",
          "text": [
            "10\n",
            "0 1 2 3 4 5 6 7 8 9 10 "
          ]
        },
        {
          "output_type": "execute_result",
          "data": {
            "text/plain": [
              "([30], [25])"
            ]
          },
          "metadata": {},
          "execution_count": 24
        }
      ]
    },
    {
      "cell_type": "markdown",
      "source": [
        "*27. Create a program that generates a list of squares of odd numbers between 1 and 10 using list\n",
        "comprehension.*"
      ],
      "metadata": {
        "id": "c1zaZDi9G8Jm"
      }
    },
    {
      "cell_type": "code",
      "source": [
        "def square_of_odds(n):\n",
        "  squares= [i**2 for i in range(n+1) if i%2 !=0]\n",
        "  return squares\n",
        "print(f'The list of squares of odd numbers between 1 and 10 is: {square_of_odds(10)}')\n"
      ],
      "metadata": {
        "id": "u1RMn0zzg02o",
        "colab": {
          "base_uri": "https://localhost:8080/"
        },
        "outputId": "d32b2722-277a-40a3-d3a0-38d9fa41e1e2"
      },
      "execution_count": null,
      "outputs": [
        {
          "output_type": "stream",
          "name": "stdout",
          "text": [
            "The list of squares of odd numbers between 1 and 10 is: [1, 9, 25, 49, 81]\n"
          ]
        }
      ]
    },
    {
      "cell_type": "markdown",
      "source": [
        "*28. Write a program that combines two lists into a dictionary using list comprehension.*"
      ],
      "metadata": {
        "id": "Ne5pOWduH238"
      }
    },
    {
      "cell_type": "code",
      "source": [
        "def dictionary(l1,l2):\n",
        "  dictioray = {l1[i]:l2[i] for i in range(len(l1))}\n",
        "  return dictioray\n",
        "l2=['Vraj', 'Bhavsar', 'Hello', '20.09.2020', '11:30']\n",
        "l1= ['Name','surname', 'Greetings', 'Date', 'Time' ]\n",
        "dictionary(l1,l2)"
      ],
      "metadata": {
        "id": "sjvxNjt_H2lt",
        "colab": {
          "base_uri": "https://localhost:8080/"
        },
        "outputId": "2ac57605-0315-4d97-b2fe-74aec5f972c9"
      },
      "execution_count": null,
      "outputs": [
        {
          "output_type": "execute_result",
          "data": {
            "text/plain": [
              "{'Name': 'Vraj',\n",
              " 'surname': 'Bhavsar',\n",
              " 'Greetings': 'Hello',\n",
              " 'Date': '20.09.2020',\n",
              " 'Time': '11:30'}"
            ]
          },
          "metadata": {},
          "execution_count": 7
        }
      ]
    },
    {
      "cell_type": "markdown",
      "source": [
        "*29. Develop a program that extracts the vowels from a string and stores them in a list using list comprehension.*"
      ],
      "metadata": {
        "id": "TXSwHHd8LbPX"
      }
    },
    {
      "cell_type": "code",
      "source": [
        "def vowel(string):\n",
        "  vowels = [i for i in string if i in 'aeiouAEIOU']\n",
        "  return vowels\n",
        "string= input()\n",
        "print(f' The vowels in \"{string}\" are {vowel(string)}')"
      ],
      "metadata": {
        "colab": {
          "base_uri": "https://localhost:8080/"
        },
        "id": "qn8FtdgtLg2D",
        "outputId": "b9edc453-5692-4e3a-f67f-3b3b9f4ae88b"
      },
      "execution_count": null,
      "outputs": [
        {
          "output_type": "stream",
          "name": "stdout",
          "text": [
            "Hello, How Are You?\n",
            " The vowels in \"Hello, How Are You?\" are ['e', 'o', 'o', 'A', 'e', 'o', 'u']\n"
          ]
        }
      ]
    },
    {
      "cell_type": "markdown",
      "source": [
        "*30. Create a program that removes all non-numeric characters from a list of strings using list comprehension.*"
      ],
      "metadata": {
        "id": "h_czQ9v7Po59"
      }
    },
    {
      "cell_type": "code",
      "source": [
        "def remove_nonnum(l1):\n",
        "  only_nunms = [i for i in l1 if str(i).isdigit() == True]\n",
        "  return only_nunms\n",
        "l1= [1,2,3,'one', 'two', 'Three', 4,'Four', 5 , 6, 'six']\n",
        "print(f'The list {l1} with non-numeric elements: \\n{remove_nonnum(l1)}')\n"
      ],
      "metadata": {
        "colab": {
          "base_uri": "https://localhost:8080/"
        },
        "id": "mKk5PKr0P1YD",
        "outputId": "abea3318-516b-4e3e-b960-cbbb60b221d0"
      },
      "execution_count": null,
      "outputs": [
        {
          "output_type": "stream",
          "name": "stdout",
          "text": [
            "The list [1, 2, 3, 'one', 'two', 'Three', 4, 'Four', 5, 6, 'six'] with non-numeric elements: \n",
            "[1, 2, 3, 4, 5, 6]\n"
          ]
        }
      ]
    }
  ]
}