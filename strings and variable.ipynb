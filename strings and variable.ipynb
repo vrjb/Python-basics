{
 "cells": [
  {
   "cell_type": "markdown",
   "id": "33b65f89-c0c3-40d4-8d7e-d538f02c2488",
   "metadata": {},
   "source": [
    "Python Basics Variable"
   ]
  },
  {
   "cell_type": "markdown",
   "id": "f81fd543-2efd-4a83-85f8-fe409c389d8f",
   "metadata": {},
   "source": [
    "1. Declare two variables, x and y, and assign them integer values. Swap the values of these variables without using any temporary variable.\n"
   ]
  },
  {
   "cell_type": "code",
   "execution_count": 1,
   "id": "7f9c3d5c-b6e6-4f85-9bca-358ee6bc7705",
   "metadata": {},
   "outputs": [
    {
     "name": "stdin",
     "output_type": "stream",
     "text": [
      " 15\n",
      " 25\n"
     ]
    },
    {
     "name": "stdout",
     "output_type": "stream",
     "text": [
      "The values of x and y after swap is 25 and 15 respectively\n"
     ]
    }
   ],
   "source": [
    "x=int(input())\n",
    "y=int(input())\n",
    "x = x + y\n",
    "y = x-y\n",
    "x= x-y\n",
    "print(f'The values of x and y after swap is {x} and {y} respectively')"
   ]
  },
  {
   "cell_type": "markdown",
   "id": "5d533e2d-523f-4c2b-a9ba-13b1ee22a9c9",
   "metadata": {},
   "source": [
    "2. Create a program that calculates the area of a rectangle. Take the length and width as inputs from the user and store them in variables. Calculate and display the area."
   ]
  },
  {
   "cell_type": "code",
   "execution_count": 2,
   "id": "ce1964cd-4b64-4f78-a295-dcc66ca1bbce",
   "metadata": {},
   "outputs": [
    {
     "name": "stdin",
     "output_type": "stream",
     "text": [
      " 12\n",
      " 5\n"
     ]
    },
    {
     "name": "stdout",
     "output_type": "stream",
     "text": [
      "The area of rectangle is 60\n"
     ]
    }
   ],
   "source": [
    "width=int(input())\n",
    "length=int(input())\n",
    "area= width*length\n",
    "print(f'The area of rectangle is {area}')"
   ]
  },
  {
   "cell_type": "markdown",
   "id": "64ffab37-fcad-42a5-a2f5-982a70a91b0a",
   "metadata": {},
   "source": [
    "3. Write a Python program that converts temperatures from Celsius to Fahrenheit. Take the temperature in Celsius as input, store it in a variable, convert it to Fahrenheit, and display the result."
   ]
  },
  {
   "cell_type": "code",
   "execution_count": 3,
   "id": "9ed9a4ff-305c-411b-8dd2-b953bf45d1ad",
   "metadata": {},
   "outputs": [
    {
     "name": "stdin",
     "output_type": "stream",
     "text": [
      "Enter yhe degree in celcius:  37\n"
     ]
    },
    {
     "name": "stdout",
     "output_type": "stream",
     "text": [
      "98.60000000000001\n"
     ]
    }
   ],
   "source": [
    "C = int(input('Enter yhe degree in celcius: '))\n",
    "F = (9/5)*C+32\n",
    "print(F)"
   ]
  },
  {
   "cell_type": "markdown",
   "id": "9db1470b-df86-4226-aa53-f77e412d9ee4",
   "metadata": {},
   "source": [
    "String Based Questions"
   ]
  },
  {
   "cell_type": "markdown",
   "id": "63c1ea4d-fda0-4128-8bcd-c17a1da3c248",
   "metadata": {},
   "source": [
    "1. Write a Python program that takes a string as input and prints the length of the string."
   ]
  },
  {
   "cell_type": "code",
   "execution_count": 5,
   "id": "c87e84ab-2c96-41d2-9b00-482bfd58e1e4",
   "metadata": {},
   "outputs": [
    {
     "name": "stdin",
     "output_type": "stream",
     "text": [
      " Chandrayan3 has successfully landed on the moon.\n"
     ]
    },
    {
     "name": "stdout",
     "output_type": "stream",
     "text": [
      "The len of string is: 48\n"
     ]
    }
   ],
   "source": [
    "string = input()\n",
    "i=0\n",
    "l=list(string)\n",
    "for x in l:\n",
    "  i+=1\n",
    "print(f'The len of string is: {i}')"
   ]
  },
  {
   "cell_type": "markdown",
   "id": "20b37c9a-387f-4a65-8c51-79f87c4d3e4a",
   "metadata": {},
   "source": [
    "2. Create a program that takes a sentence from the user and counts the number of vowels (a, e, i, o, u) in the string."
   ]
  },
  {
   "cell_type": "code",
   "execution_count": 7,
   "id": "83543bff-d649-4c87-b674-1cd91edcd222",
   "metadata": {},
   "outputs": [
    {
     "name": "stdin",
     "output_type": "stream",
     "text": [
      " I am writing this code.\n"
     ]
    },
    {
     "name": "stdout",
     "output_type": "stream",
     "text": [
      "The number of vowels in string is 7\n"
     ]
    }
   ],
   "source": [
    "string= input()\n",
    "l= []\n",
    "k={'a','e','i','o','u','A','E','I','O','U'}\n",
    "for i in string:\n",
    "  if i in k:\n",
    "    l.append(i)\n",
    "s=''.join(l)\n",
    "# print(len(string))\n",
    "print(f'The number of vowels in string is {len(s)}')"
   ]
  },
  {
   "cell_type": "markdown",
   "id": "caea6c77-7e2c-43d8-8a46-918c2409612a",
   "metadata": {},
   "source": [
    "3. Given a string, reverse the order of characters using string slicing and print the reversed string."
   ]
  },
  {
   "cell_type": "code",
   "execution_count": 8,
   "id": "fd0c714e-5107-4bd5-83ca-f689e350ebad",
   "metadata": {},
   "outputs": [
    {
     "name": "stdin",
     "output_type": "stream",
     "text": [
      " Vraj Bhavsar\n"
     ]
    },
    {
     "name": "stdout",
     "output_type": "stream",
     "text": [
      "rasvahB jarV\n"
     ]
    }
   ],
   "source": [
    "string= input()\n",
    "string=string[len(string)::-1]\n",
    "print(string)"
   ]
  },
  {
   "cell_type": "markdown",
   "id": "ee48d533-2787-42f0-9091-7fcd0d919ee9",
   "metadata": {},
   "source": [
    "4. Write a program that takes a string as input and checks if it is a palindrome (reads the same forwards and backwards)."
   ]
  },
  {
   "cell_type": "code",
   "execution_count": 9,
   "id": "34f52e53-ef4d-4765-ae23-8552e2d02523",
   "metadata": {},
   "outputs": [
    {
     "name": "stdin",
     "output_type": "stream",
     "text": [
      " kayak\n"
     ]
    },
    {
     "name": "stdout",
     "output_type": "stream",
     "text": [
      "The string kayak is palindrome.\n"
     ]
    }
   ],
   "source": [
    "string= input()\n",
    "s=string[len(string)::-1]\n",
    "v=string[::1]\n",
    "if s == v:\n",
    "  print(f'The string {string} is palindrome.')"
   ]
  },
  {
   "cell_type": "markdown",
   "id": "2570fc70-b9e4-42a5-aefb-f489127c9f5a",
   "metadata": {},
   "source": [
    "5. Create a program that takes a string as input and removes all the spaces from it. Print the modified string without spaces."
   ]
  },
  {
   "cell_type": "code",
   "execution_count": 10,
   "id": "cfbb9afb-de28-44f5-badc-650d9c2072d9",
   "metadata": {},
   "outputs": [
    {
     "name": "stdin",
     "output_type": "stream",
     "text": [
      " I am Great learner.\n"
     ]
    },
    {
     "name": "stdout",
     "output_type": "stream",
     "text": [
      "IamGreatlearner.\n"
     ]
    }
   ],
   "source": [
    "string =input()\n",
    "j=''\n",
    "for i in string:\n",
    "  if i != \" \":\n",
    "    j+=i\n",
    "print(j)"
   ]
  },
  {
   "cell_type": "code",
   "execution_count": null,
   "id": "df22a52b-453e-4c86-96eb-8381c30fa2b6",
   "metadata": {},
   "outputs": [],
   "source": []
  }
 ],
 "metadata": {
  "kernelspec": {
   "display_name": "Python 3 (ipykernel)",
   "language": "python",
   "name": "python3"
  },
  "language_info": {
   "codemirror_mode": {
    "name": "ipython",
    "version": 3
   },
   "file_extension": ".py",
   "mimetype": "text/x-python",
   "name": "python",
   "nbconvert_exporter": "python",
   "pygments_lexer": "ipython3",
   "version": "3.10.8"
  }
 },
 "nbformat": 4,
 "nbformat_minor": 5
}
